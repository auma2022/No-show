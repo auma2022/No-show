{
  "cells": [
    {
      "cell_type": "markdown",
      "metadata": {
        "id": "AIGhy1blWGth"
      },
      "source": [
        "\n",
        "\n",
        "# Project: Investigate a Dataset - No-Show Appointments \n",
        "\n",
        "## Table of Contents\n",
        "<ul>\n",
        "<li><a href=\"#intro\">Introduction</a></li>\n",
        "<li><a href=\"#wrangling\">Data Wrangling</a></li>\n",
        "<li><a href=\"#eda\">Exploratory Data Analysis</a></li>\n",
        "<li><a href=\"#conclusions\">Conclusions</a></li>\n",
        "</ul>"
      ]
    },
    {
      "cell_type": "markdown",
      "metadata": {
        "id": "1j6ll8mcWGto"
      },
      "source": [
        "<a id='intro'></a>\n",
        "## Introduction\n",
        "\n",
        "### Dataset Description \n",
        "This is an analysis of medical appointments dataset. The dataset has a record of over 110,000 patients in Brazil.Our goal is to analyse this dataset and find out the main causes of patients failing to attend the appointments. This will help the hospital save on cost and utilise the time that health workers waste while waiting for patients that end up not turning up. It will also help them schedule the appointment for the patients that are likely to attend hence serving many people in this case.\n",
        "\n",
        "### Dataset Column Description\n",
        "PatientId - Patient identification\n",
        "\n",
        "AppointmentID - Appointment identification\n",
        "\n",
        "Gender - Patient gender (Male or Female)\n",
        "\n",
        "ScheduledDay - The day patient set up their appointment\n",
        "\n",
        "AppointmentDay - The day of actual appointment of the patient Age - patient Age\n",
        "\n",
        "Neighbourhood - Hospital location\n",
        "\n",
        "Scholarship - Indicates whether or not the patient is on scholarship(0 for no and 1 for Yes)\n",
        "\n",
        "Hipertension - Indicates whether or not the patient has hypertension or not(0 for no and 1 for Yes)\n",
        "\n",
        "Diabetes - Indicates whether or not the patient has diabetes or not (0 for no and 1 for Yes)\n",
        "\n",
        "Alcoholism - Indicates whether or not the patient has alcoholism or not (0 for no and 1 for Yes)\n",
        "\n",
        "Handicap - Indicates whether or not the patient has handicap or not (on scale from 0 to 4 )\n",
        "\n",
        "SMS_received = Indicates whether or not the patient received SMS (0 for no and 1 for Yes)\n",
        "\n",
        "No-show = Indicates whether or not the patient attend the appointment(Yes for didn't show and No for show)\n",
        "\n",
        "\n",
        "\n",
        "\n",
        "\n",
        "### Question(s) for Analysis\n",
        "Which gender likely to show in plenty for the appointments?\n",
        "\n",
        "Which age group will show the most?\n",
        "\n",
        "Which disease has most patients showing for the appointment?\n",
        "\n",
        "What improvements should be made?"
      ]
    },
    {
      "cell_type": "code",
      "execution_count": 71,
      "metadata": {
        "id": "0wZ1W84rWGtr"
      },
      "outputs": [],
      "source": [
        "#import packages\n",
        "import numpy as np\n",
        "import pandas as pd\n",
        "import matplotlib.pyplot as plt\n",
        "%matplotlib inline\n",
        "import seaborn as sns\n"
      ]
    },
    {
      "cell_type": "markdown",
      "metadata": {
        "id": "aICfY5_KWGt3"
      },
      "source": [
        "<a id='wrangling'></a>\n",
        "## Data Wrangling\n",
        "\n"
      ]
    },
    {
      "cell_type": "code",
      "execution_count": 72,
      "metadata": {
        "colab": {
          "base_uri": "https://localhost:8080/",
          "height": 423
        },
        "id": "wz-UrsOrPYVM",
        "outputId": "31b451b9-a258-443f-e83e-64a3b9b2320b"
      },
      "outputs": [
        {
          "output_type": "execute_result",
          "data": {
            "text/plain": [
              "      PatientId  AppointmentID Gender          ScheduledDay  \\\n",
              "0  2.987250e+13        5642903      F  2016-04-29T18:38:08Z   \n",
              "1  5.589978e+14        5642503      M  2016-04-29T16:08:27Z   \n",
              "2  4.262962e+12        5642549      F  2016-04-29T16:19:04Z   \n",
              "3  8.679512e+11        5642828      F  2016-04-29T17:29:31Z   \n",
              "4  8.841186e+12        5642494      F  2016-04-29T16:07:23Z   \n",
              "5  9.598513e+13        5626772      F  2016-04-27T08:36:51Z   \n",
              "\n",
              "         AppointmentDay  Age      Neighbourhood  Scholarship  Hipertension  \\\n",
              "0  2016-04-29T00:00:00Z   62    JARDIM DA PENHA            0             1   \n",
              "1  2016-04-29T00:00:00Z   56    JARDIM DA PENHA            0             0   \n",
              "2  2016-04-29T00:00:00Z   62      MATA DA PRAIA            0             0   \n",
              "3  2016-04-29T00:00:00Z    8  PONTAL DE CAMBURI            0             0   \n",
              "4  2016-04-29T00:00:00Z   56    JARDIM DA PENHA            0             1   \n",
              "5  2016-04-29T00:00:00Z   76          REPÚBLICA            0             1   \n",
              "\n",
              "   Diabetes  Alcoholism  Handcap  SMS_received No-show  \n",
              "0         0           0        0             0      No  \n",
              "1         0           0        0             0      No  \n",
              "2         0           0        0             0      No  \n",
              "3         0           0        0             0      No  \n",
              "4         1           0        0             0      No  \n",
              "5         0           0        0             0      No  "
            ],
            "text/html": [
              "\n",
              "  <div id=\"df-6b3a7b88-8aa3-4e2d-9995-2882a85b9063\">\n",
              "    <div class=\"colab-df-container\">\n",
              "      <div>\n",
              "<style scoped>\n",
              "    .dataframe tbody tr th:only-of-type {\n",
              "        vertical-align: middle;\n",
              "    }\n",
              "\n",
              "    .dataframe tbody tr th {\n",
              "        vertical-align: top;\n",
              "    }\n",
              "\n",
              "    .dataframe thead th {\n",
              "        text-align: right;\n",
              "    }\n",
              "</style>\n",
              "<table border=\"1\" class=\"dataframe\">\n",
              "  <thead>\n",
              "    <tr style=\"text-align: right;\">\n",
              "      <th></th>\n",
              "      <th>PatientId</th>\n",
              "      <th>AppointmentID</th>\n",
              "      <th>Gender</th>\n",
              "      <th>ScheduledDay</th>\n",
              "      <th>AppointmentDay</th>\n",
              "      <th>Age</th>\n",
              "      <th>Neighbourhood</th>\n",
              "      <th>Scholarship</th>\n",
              "      <th>Hipertension</th>\n",
              "      <th>Diabetes</th>\n",
              "      <th>Alcoholism</th>\n",
              "      <th>Handcap</th>\n",
              "      <th>SMS_received</th>\n",
              "      <th>No-show</th>\n",
              "    </tr>\n",
              "  </thead>\n",
              "  <tbody>\n",
              "    <tr>\n",
              "      <th>0</th>\n",
              "      <td>2.987250e+13</td>\n",
              "      <td>5642903</td>\n",
              "      <td>F</td>\n",
              "      <td>2016-04-29T18:38:08Z</td>\n",
              "      <td>2016-04-29T00:00:00Z</td>\n",
              "      <td>62</td>\n",
              "      <td>JARDIM DA PENHA</td>\n",
              "      <td>0</td>\n",
              "      <td>1</td>\n",
              "      <td>0</td>\n",
              "      <td>0</td>\n",
              "      <td>0</td>\n",
              "      <td>0</td>\n",
              "      <td>No</td>\n",
              "    </tr>\n",
              "    <tr>\n",
              "      <th>1</th>\n",
              "      <td>5.589978e+14</td>\n",
              "      <td>5642503</td>\n",
              "      <td>M</td>\n",
              "      <td>2016-04-29T16:08:27Z</td>\n",
              "      <td>2016-04-29T00:00:00Z</td>\n",
              "      <td>56</td>\n",
              "      <td>JARDIM DA PENHA</td>\n",
              "      <td>0</td>\n",
              "      <td>0</td>\n",
              "      <td>0</td>\n",
              "      <td>0</td>\n",
              "      <td>0</td>\n",
              "      <td>0</td>\n",
              "      <td>No</td>\n",
              "    </tr>\n",
              "    <tr>\n",
              "      <th>2</th>\n",
              "      <td>4.262962e+12</td>\n",
              "      <td>5642549</td>\n",
              "      <td>F</td>\n",
              "      <td>2016-04-29T16:19:04Z</td>\n",
              "      <td>2016-04-29T00:00:00Z</td>\n",
              "      <td>62</td>\n",
              "      <td>MATA DA PRAIA</td>\n",
              "      <td>0</td>\n",
              "      <td>0</td>\n",
              "      <td>0</td>\n",
              "      <td>0</td>\n",
              "      <td>0</td>\n",
              "      <td>0</td>\n",
              "      <td>No</td>\n",
              "    </tr>\n",
              "    <tr>\n",
              "      <th>3</th>\n",
              "      <td>8.679512e+11</td>\n",
              "      <td>5642828</td>\n",
              "      <td>F</td>\n",
              "      <td>2016-04-29T17:29:31Z</td>\n",
              "      <td>2016-04-29T00:00:00Z</td>\n",
              "      <td>8</td>\n",
              "      <td>PONTAL DE CAMBURI</td>\n",
              "      <td>0</td>\n",
              "      <td>0</td>\n",
              "      <td>0</td>\n",
              "      <td>0</td>\n",
              "      <td>0</td>\n",
              "      <td>0</td>\n",
              "      <td>No</td>\n",
              "    </tr>\n",
              "    <tr>\n",
              "      <th>4</th>\n",
              "      <td>8.841186e+12</td>\n",
              "      <td>5642494</td>\n",
              "      <td>F</td>\n",
              "      <td>2016-04-29T16:07:23Z</td>\n",
              "      <td>2016-04-29T00:00:00Z</td>\n",
              "      <td>56</td>\n",
              "      <td>JARDIM DA PENHA</td>\n",
              "      <td>0</td>\n",
              "      <td>1</td>\n",
              "      <td>1</td>\n",
              "      <td>0</td>\n",
              "      <td>0</td>\n",
              "      <td>0</td>\n",
              "      <td>No</td>\n",
              "    </tr>\n",
              "    <tr>\n",
              "      <th>5</th>\n",
              "      <td>9.598513e+13</td>\n",
              "      <td>5626772</td>\n",
              "      <td>F</td>\n",
              "      <td>2016-04-27T08:36:51Z</td>\n",
              "      <td>2016-04-29T00:00:00Z</td>\n",
              "      <td>76</td>\n",
              "      <td>REPÚBLICA</td>\n",
              "      <td>0</td>\n",
              "      <td>1</td>\n",
              "      <td>0</td>\n",
              "      <td>0</td>\n",
              "      <td>0</td>\n",
              "      <td>0</td>\n",
              "      <td>No</td>\n",
              "    </tr>\n",
              "  </tbody>\n",
              "</table>\n",
              "</div>\n",
              "      <button class=\"colab-df-convert\" onclick=\"convertToInteractive('df-6b3a7b88-8aa3-4e2d-9995-2882a85b9063')\"\n",
              "              title=\"Convert this dataframe to an interactive table.\"\n",
              "              style=\"display:none;\">\n",
              "        \n",
              "  <svg xmlns=\"http://www.w3.org/2000/svg\" height=\"24px\"viewBox=\"0 0 24 24\"\n",
              "       width=\"24px\">\n",
              "    <path d=\"M0 0h24v24H0V0z\" fill=\"none\"/>\n",
              "    <path d=\"M18.56 5.44l.94 2.06.94-2.06 2.06-.94-2.06-.94-.94-2.06-.94 2.06-2.06.94zm-11 1L8.5 8.5l.94-2.06 2.06-.94-2.06-.94L8.5 2.5l-.94 2.06-2.06.94zm10 10l.94 2.06.94-2.06 2.06-.94-2.06-.94-.94-2.06-.94 2.06-2.06.94z\"/><path d=\"M17.41 7.96l-1.37-1.37c-.4-.4-.92-.59-1.43-.59-.52 0-1.04.2-1.43.59L10.3 9.45l-7.72 7.72c-.78.78-.78 2.05 0 2.83L4 21.41c.39.39.9.59 1.41.59.51 0 1.02-.2 1.41-.59l7.78-7.78 2.81-2.81c.8-.78.8-2.07 0-2.86zM5.41 20L4 18.59l7.72-7.72 1.47 1.35L5.41 20z\"/>\n",
              "  </svg>\n",
              "      </button>\n",
              "      \n",
              "  <style>\n",
              "    .colab-df-container {\n",
              "      display:flex;\n",
              "      flex-wrap:wrap;\n",
              "      gap: 12px;\n",
              "    }\n",
              "\n",
              "    .colab-df-convert {\n",
              "      background-color: #E8F0FE;\n",
              "      border: none;\n",
              "      border-radius: 50%;\n",
              "      cursor: pointer;\n",
              "      display: none;\n",
              "      fill: #1967D2;\n",
              "      height: 32px;\n",
              "      padding: 0 0 0 0;\n",
              "      width: 32px;\n",
              "    }\n",
              "\n",
              "    .colab-df-convert:hover {\n",
              "      background-color: #E2EBFA;\n",
              "      box-shadow: 0px 1px 2px rgba(60, 64, 67, 0.3), 0px 1px 3px 1px rgba(60, 64, 67, 0.15);\n",
              "      fill: #174EA6;\n",
              "    }\n",
              "\n",
              "    [theme=dark] .colab-df-convert {\n",
              "      background-color: #3B4455;\n",
              "      fill: #D2E3FC;\n",
              "    }\n",
              "\n",
              "    [theme=dark] .colab-df-convert:hover {\n",
              "      background-color: #434B5C;\n",
              "      box-shadow: 0px 1px 3px 1px rgba(0, 0, 0, 0.15);\n",
              "      filter: drop-shadow(0px 1px 2px rgba(0, 0, 0, 0.3));\n",
              "      fill: #FFFFFF;\n",
              "    }\n",
              "  </style>\n",
              "\n",
              "      <script>\n",
              "        const buttonEl =\n",
              "          document.querySelector('#df-6b3a7b88-8aa3-4e2d-9995-2882a85b9063 button.colab-df-convert');\n",
              "        buttonEl.style.display =\n",
              "          google.colab.kernel.accessAllowed ? 'block' : 'none';\n",
              "\n",
              "        async function convertToInteractive(key) {\n",
              "          const element = document.querySelector('#df-6b3a7b88-8aa3-4e2d-9995-2882a85b9063');\n",
              "          const dataTable =\n",
              "            await google.colab.kernel.invokeFunction('convertToInteractive',\n",
              "                                                     [key], {});\n",
              "          if (!dataTable) return;\n",
              "\n",
              "          const docLinkHtml = 'Like what you see? Visit the ' +\n",
              "            '<a target=\"_blank\" href=https://colab.research.google.com/notebooks/data_table.ipynb>data table notebook</a>'\n",
              "            + ' to learn more about interactive tables.';\n",
              "          element.innerHTML = '';\n",
              "          dataTable['output_type'] = 'display_data';\n",
              "          await google.colab.output.renderOutput(dataTable, element);\n",
              "          const docLink = document.createElement('div');\n",
              "          docLink.innerHTML = docLinkHtml;\n",
              "          element.appendChild(docLink);\n",
              "        }\n",
              "      </script>\n",
              "    </div>\n",
              "  </div>\n",
              "  "
            ]
          },
          "metadata": {},
          "execution_count": 72
        }
      ],
      "source": [
        "#import dataset and check first six rows\n",
        "path = './noshowappointments-kagglev2-may-2016.csv'\n",
        "df = pd.read_csv(path)\n",
        "df.head(6)"
      ]
    },
    {
      "cell_type": "code",
      "execution_count": 73,
      "metadata": {
        "colab": {
          "base_uri": "https://localhost:8080/"
        },
        "id": "GwkPbLSNU6k4",
        "outputId": "3016f177-bdc1-46c8-a2df-bcf32b9a0bd7"
      },
      "outputs": [
        {
          "output_type": "execute_result",
          "data": {
            "text/plain": [
              "(110527, 14)"
            ]
          },
          "metadata": {},
          "execution_count": 73
        }
      ],
      "source": [
        "#checking number of rows and columns\n",
        "df.shape"
      ]
    },
    {
      "cell_type": "markdown",
      "source": [
        "The dataset has 110527 rows and 14 columns"
      ],
      "metadata": {
        "id": "5kltT0ZIZM_c"
      }
    },
    {
      "cell_type": "code",
      "execution_count": 74,
      "metadata": {
        "colab": {
          "base_uri": "https://localhost:8080/"
        },
        "id": "fc97Kt-jVLRr",
        "outputId": "09ba633c-80af-460b-96a2-e9b294a1bf52"
      },
      "outputs": [
        {
          "output_type": "stream",
          "name": "stdout",
          "text": [
            "<class 'pandas.core.frame.DataFrame'>\n",
            "RangeIndex: 110527 entries, 0 to 110526\n",
            "Data columns (total 14 columns):\n",
            " #   Column          Non-Null Count   Dtype  \n",
            "---  ------          --------------   -----  \n",
            " 0   PatientId       110527 non-null  float64\n",
            " 1   AppointmentID   110527 non-null  int64  \n",
            " 2   Gender          110527 non-null  object \n",
            " 3   ScheduledDay    110527 non-null  object \n",
            " 4   AppointmentDay  110527 non-null  object \n",
            " 5   Age             110527 non-null  int64  \n",
            " 6   Neighbourhood   110527 non-null  object \n",
            " 7   Scholarship     110527 non-null  int64  \n",
            " 8   Hipertension    110527 non-null  int64  \n",
            " 9   Diabetes        110527 non-null  int64  \n",
            " 10  Alcoholism      110527 non-null  int64  \n",
            " 11  Handcap         110527 non-null  int64  \n",
            " 12  SMS_received    110527 non-null  int64  \n",
            " 13  No-show         110527 non-null  object \n",
            "dtypes: float64(1), int64(8), object(5)\n",
            "memory usage: 11.8+ MB\n"
          ]
        }
      ],
      "source": [
        "#check relavant information\n",
        "df.info()"
      ]
    },
    {
      "cell_type": "markdown",
      "source": [
        "The data has no missing values"
      ],
      "metadata": {
        "id": "nnvyPMYGZfub"
      }
    },
    {
      "cell_type": "code",
      "execution_count": 75,
      "metadata": {
        "colab": {
          "base_uri": "https://localhost:8080/",
          "height": 364
        },
        "id": "w2BNumu6V-xg",
        "outputId": "3581d45a-18da-4054-a8a2-c88dd0e97229"
      },
      "outputs": [
        {
          "output_type": "execute_result",
          "data": {
            "text/plain": [
              "          PatientId  AppointmentID            Age    Scholarship  \\\n",
              "count  1.105270e+05   1.105270e+05  110527.000000  110527.000000   \n",
              "mean   1.474963e+14   5.675305e+06      37.088874       0.098266   \n",
              "std    2.560949e+14   7.129575e+04      23.110205       0.297675   \n",
              "min    3.921784e+04   5.030230e+06      -1.000000       0.000000   \n",
              "25%    4.172614e+12   5.640286e+06      18.000000       0.000000   \n",
              "50%    3.173184e+13   5.680573e+06      37.000000       0.000000   \n",
              "75%    9.439172e+13   5.725524e+06      55.000000       0.000000   \n",
              "max    9.999816e+14   5.790484e+06     115.000000       1.000000   \n",
              "\n",
              "        Hipertension       Diabetes     Alcoholism        Handcap  \\\n",
              "count  110527.000000  110527.000000  110527.000000  110527.000000   \n",
              "mean        0.197246       0.071865       0.030400       0.022248   \n",
              "std         0.397921       0.258265       0.171686       0.161543   \n",
              "min         0.000000       0.000000       0.000000       0.000000   \n",
              "25%         0.000000       0.000000       0.000000       0.000000   \n",
              "50%         0.000000       0.000000       0.000000       0.000000   \n",
              "75%         0.000000       0.000000       0.000000       0.000000   \n",
              "max         1.000000       1.000000       1.000000       4.000000   \n",
              "\n",
              "        SMS_received  \n",
              "count  110527.000000  \n",
              "mean        0.321026  \n",
              "std         0.466873  \n",
              "min         0.000000  \n",
              "25%         0.000000  \n",
              "50%         0.000000  \n",
              "75%         1.000000  \n",
              "max         1.000000  "
            ],
            "text/html": [
              "\n",
              "  <div id=\"df-52673de4-9f3c-4200-bb4d-8efabde9055c\">\n",
              "    <div class=\"colab-df-container\">\n",
              "      <div>\n",
              "<style scoped>\n",
              "    .dataframe tbody tr th:only-of-type {\n",
              "        vertical-align: middle;\n",
              "    }\n",
              "\n",
              "    .dataframe tbody tr th {\n",
              "        vertical-align: top;\n",
              "    }\n",
              "\n",
              "    .dataframe thead th {\n",
              "        text-align: right;\n",
              "    }\n",
              "</style>\n",
              "<table border=\"1\" class=\"dataframe\">\n",
              "  <thead>\n",
              "    <tr style=\"text-align: right;\">\n",
              "      <th></th>\n",
              "      <th>PatientId</th>\n",
              "      <th>AppointmentID</th>\n",
              "      <th>Age</th>\n",
              "      <th>Scholarship</th>\n",
              "      <th>Hipertension</th>\n",
              "      <th>Diabetes</th>\n",
              "      <th>Alcoholism</th>\n",
              "      <th>Handcap</th>\n",
              "      <th>SMS_received</th>\n",
              "    </tr>\n",
              "  </thead>\n",
              "  <tbody>\n",
              "    <tr>\n",
              "      <th>count</th>\n",
              "      <td>1.105270e+05</td>\n",
              "      <td>1.105270e+05</td>\n",
              "      <td>110527.000000</td>\n",
              "      <td>110527.000000</td>\n",
              "      <td>110527.000000</td>\n",
              "      <td>110527.000000</td>\n",
              "      <td>110527.000000</td>\n",
              "      <td>110527.000000</td>\n",
              "      <td>110527.000000</td>\n",
              "    </tr>\n",
              "    <tr>\n",
              "      <th>mean</th>\n",
              "      <td>1.474963e+14</td>\n",
              "      <td>5.675305e+06</td>\n",
              "      <td>37.088874</td>\n",
              "      <td>0.098266</td>\n",
              "      <td>0.197246</td>\n",
              "      <td>0.071865</td>\n",
              "      <td>0.030400</td>\n",
              "      <td>0.022248</td>\n",
              "      <td>0.321026</td>\n",
              "    </tr>\n",
              "    <tr>\n",
              "      <th>std</th>\n",
              "      <td>2.560949e+14</td>\n",
              "      <td>7.129575e+04</td>\n",
              "      <td>23.110205</td>\n",
              "      <td>0.297675</td>\n",
              "      <td>0.397921</td>\n",
              "      <td>0.258265</td>\n",
              "      <td>0.171686</td>\n",
              "      <td>0.161543</td>\n",
              "      <td>0.466873</td>\n",
              "    </tr>\n",
              "    <tr>\n",
              "      <th>min</th>\n",
              "      <td>3.921784e+04</td>\n",
              "      <td>5.030230e+06</td>\n",
              "      <td>-1.000000</td>\n",
              "      <td>0.000000</td>\n",
              "      <td>0.000000</td>\n",
              "      <td>0.000000</td>\n",
              "      <td>0.000000</td>\n",
              "      <td>0.000000</td>\n",
              "      <td>0.000000</td>\n",
              "    </tr>\n",
              "    <tr>\n",
              "      <th>25%</th>\n",
              "      <td>4.172614e+12</td>\n",
              "      <td>5.640286e+06</td>\n",
              "      <td>18.000000</td>\n",
              "      <td>0.000000</td>\n",
              "      <td>0.000000</td>\n",
              "      <td>0.000000</td>\n",
              "      <td>0.000000</td>\n",
              "      <td>0.000000</td>\n",
              "      <td>0.000000</td>\n",
              "    </tr>\n",
              "    <tr>\n",
              "      <th>50%</th>\n",
              "      <td>3.173184e+13</td>\n",
              "      <td>5.680573e+06</td>\n",
              "      <td>37.000000</td>\n",
              "      <td>0.000000</td>\n",
              "      <td>0.000000</td>\n",
              "      <td>0.000000</td>\n",
              "      <td>0.000000</td>\n",
              "      <td>0.000000</td>\n",
              "      <td>0.000000</td>\n",
              "    </tr>\n",
              "    <tr>\n",
              "      <th>75%</th>\n",
              "      <td>9.439172e+13</td>\n",
              "      <td>5.725524e+06</td>\n",
              "      <td>55.000000</td>\n",
              "      <td>0.000000</td>\n",
              "      <td>0.000000</td>\n",
              "      <td>0.000000</td>\n",
              "      <td>0.000000</td>\n",
              "      <td>0.000000</td>\n",
              "      <td>1.000000</td>\n",
              "    </tr>\n",
              "    <tr>\n",
              "      <th>max</th>\n",
              "      <td>9.999816e+14</td>\n",
              "      <td>5.790484e+06</td>\n",
              "      <td>115.000000</td>\n",
              "      <td>1.000000</td>\n",
              "      <td>1.000000</td>\n",
              "      <td>1.000000</td>\n",
              "      <td>1.000000</td>\n",
              "      <td>4.000000</td>\n",
              "      <td>1.000000</td>\n",
              "    </tr>\n",
              "  </tbody>\n",
              "</table>\n",
              "</div>\n",
              "      <button class=\"colab-df-convert\" onclick=\"convertToInteractive('df-52673de4-9f3c-4200-bb4d-8efabde9055c')\"\n",
              "              title=\"Convert this dataframe to an interactive table.\"\n",
              "              style=\"display:none;\">\n",
              "        \n",
              "  <svg xmlns=\"http://www.w3.org/2000/svg\" height=\"24px\"viewBox=\"0 0 24 24\"\n",
              "       width=\"24px\">\n",
              "    <path d=\"M0 0h24v24H0V0z\" fill=\"none\"/>\n",
              "    <path d=\"M18.56 5.44l.94 2.06.94-2.06 2.06-.94-2.06-.94-.94-2.06-.94 2.06-2.06.94zm-11 1L8.5 8.5l.94-2.06 2.06-.94-2.06-.94L8.5 2.5l-.94 2.06-2.06.94zm10 10l.94 2.06.94-2.06 2.06-.94-2.06-.94-.94-2.06-.94 2.06-2.06.94z\"/><path d=\"M17.41 7.96l-1.37-1.37c-.4-.4-.92-.59-1.43-.59-.52 0-1.04.2-1.43.59L10.3 9.45l-7.72 7.72c-.78.78-.78 2.05 0 2.83L4 21.41c.39.39.9.59 1.41.59.51 0 1.02-.2 1.41-.59l7.78-7.78 2.81-2.81c.8-.78.8-2.07 0-2.86zM5.41 20L4 18.59l7.72-7.72 1.47 1.35L5.41 20z\"/>\n",
              "  </svg>\n",
              "      </button>\n",
              "      \n",
              "  <style>\n",
              "    .colab-df-container {\n",
              "      display:flex;\n",
              "      flex-wrap:wrap;\n",
              "      gap: 12px;\n",
              "    }\n",
              "\n",
              "    .colab-df-convert {\n",
              "      background-color: #E8F0FE;\n",
              "      border: none;\n",
              "      border-radius: 50%;\n",
              "      cursor: pointer;\n",
              "      display: none;\n",
              "      fill: #1967D2;\n",
              "      height: 32px;\n",
              "      padding: 0 0 0 0;\n",
              "      width: 32px;\n",
              "    }\n",
              "\n",
              "    .colab-df-convert:hover {\n",
              "      background-color: #E2EBFA;\n",
              "      box-shadow: 0px 1px 2px rgba(60, 64, 67, 0.3), 0px 1px 3px 1px rgba(60, 64, 67, 0.15);\n",
              "      fill: #174EA6;\n",
              "    }\n",
              "\n",
              "    [theme=dark] .colab-df-convert {\n",
              "      background-color: #3B4455;\n",
              "      fill: #D2E3FC;\n",
              "    }\n",
              "\n",
              "    [theme=dark] .colab-df-convert:hover {\n",
              "      background-color: #434B5C;\n",
              "      box-shadow: 0px 1px 3px 1px rgba(0, 0, 0, 0.15);\n",
              "      filter: drop-shadow(0px 1px 2px rgba(0, 0, 0, 0.3));\n",
              "      fill: #FFFFFF;\n",
              "    }\n",
              "  </style>\n",
              "\n",
              "      <script>\n",
              "        const buttonEl =\n",
              "          document.querySelector('#df-52673de4-9f3c-4200-bb4d-8efabde9055c button.colab-df-convert');\n",
              "        buttonEl.style.display =\n",
              "          google.colab.kernel.accessAllowed ? 'block' : 'none';\n",
              "\n",
              "        async function convertToInteractive(key) {\n",
              "          const element = document.querySelector('#df-52673de4-9f3c-4200-bb4d-8efabde9055c');\n",
              "          const dataTable =\n",
              "            await google.colab.kernel.invokeFunction('convertToInteractive',\n",
              "                                                     [key], {});\n",
              "          if (!dataTable) return;\n",
              "\n",
              "          const docLinkHtml = 'Like what you see? Visit the ' +\n",
              "            '<a target=\"_blank\" href=https://colab.research.google.com/notebooks/data_table.ipynb>data table notebook</a>'\n",
              "            + ' to learn more about interactive tables.';\n",
              "          element.innerHTML = '';\n",
              "          dataTable['output_type'] = 'display_data';\n",
              "          await google.colab.output.renderOutput(dataTable, element);\n",
              "          const docLink = document.createElement('div');\n",
              "          docLink.innerHTML = docLinkHtml;\n",
              "          element.appendChild(docLink);\n",
              "        }\n",
              "      </script>\n",
              "    </div>\n",
              "  </div>\n",
              "  "
            ]
          },
          "metadata": {},
          "execution_count": 75
        }
      ],
      "source": [
        "#descriptive statistics\n",
        "df.describe()"
      ]
    },
    {
      "cell_type": "markdown",
      "source": [
        "The min value of age column is -1 which is imposible"
      ],
      "metadata": {
        "id": "Lk-zmE9caAJY"
      }
    },
    {
      "cell_type": "code",
      "execution_count": 76,
      "metadata": {
        "colab": {
          "base_uri": "https://localhost:8080/"
        },
        "id": "dLTBaKz7YpPv",
        "outputId": "051f89ba-e51d-4128-91bb-a2be850972e8"
      },
      "outputs": [
        {
          "output_type": "execute_result",
          "data": {
            "text/plain": [
              "0"
            ]
          },
          "metadata": {},
          "execution_count": 76
        }
      ],
      "source": [
        "#checking for duplicate values\n",
        "df.duplicated().sum()"
      ]
    },
    {
      "cell_type": "markdown",
      "metadata": {
        "id": "rjppWusubL3w"
      },
      "source": [
        "#Data Cleaning\n",
        "drop the patientID and AppointmentID columns since we are not going to use them\n",
        "\n",
        "drop the row with age value of -1\n",
        "\n",
        "Change ScheduledDay and AppointmentDay types to Datetime\n",
        "\n",
        "\n",
        "Change No-Show column type to int\n"
      ]
    },
    {
      "cell_type": "code",
      "execution_count": 77,
      "metadata": {
        "id": "ZmvdcotCZfuY"
      },
      "outputs": [],
      "source": [
        "#drop the patientID and AppointmentID\n",
        "df.drop([\"PatientId\",\"AppointmentID\"], axis= 1 , inplace= True)"
      ]
    },
    {
      "cell_type": "code",
      "execution_count": 79,
      "metadata": {
        "id": "Qyqhy8FWhuzs"
      },
      "outputs": [],
      "source": [
        "#Change ScheduledDay and AppointmentDay types to Datetime\n",
        "change_column_date = [\"ScheduledDay\", \"AppointmentDay\"]\n",
        "for col in change_column_date:\n",
        "    df[col] = pd.to_datetime(df[col])\n",
        "    df.rename(columns = {col : col[:-3]+\"_day\"}, inplace=True)"
      ]
    },
    {
      "cell_type": "code",
      "execution_count": 80,
      "metadata": {
        "colab": {
          "base_uri": "https://localhost:8080/"
        },
        "id": "dW0GRfnYitU2",
        "outputId": "e2202e1d-1953-4090-e073-17ee604487a0"
      },
      "outputs": [
        {
          "output_type": "execute_result",
          "data": {
            "text/plain": [
              "Gender                          object\n",
              "Scheduled_day      datetime64[ns, UTC]\n",
              "Appointment_day    datetime64[ns, UTC]\n",
              "Age                              int64\n",
              "Neighbourhood                   object\n",
              "Scholarship                      int64\n",
              "Hipertension                     int64\n",
              "Diabetes                         int64\n",
              "Alcoholism                       int64\n",
              "Handcap                          int64\n",
              "SMS_received                     int64\n",
              "No-show                         object\n",
              "dtype: object"
            ]
          },
          "metadata": {},
          "execution_count": 80
        }
      ],
      "source": [
        "#checking datatype\n",
        "df.dtypes"
      ]
    },
    {
      "cell_type": "code",
      "source": [
        "#changing the yes and no values to zero and ones in the no-show column\n",
        "df['No-show'] = df['No-show'].map(\n",
        "                   {'Yes':1 ,'No':0})"
      ],
      "metadata": {
        "id": "bZT82Cyf5OQe"
      },
      "execution_count": 81,
      "outputs": []
    },
    {
      "cell_type": "code",
      "source": [
        "#split dataset into show and no-show patients\n",
        "df1 = df[df['No-show'] == 0]\n",
        "df2 = df[df['No-show'] == 1]"
      ],
      "metadata": {
        "id": "sirK241C_C2D"
      },
      "execution_count": 82,
      "outputs": []
    },
    {
      "cell_type": "code",
      "source": [
        "#check if dataset has been split successful\n",
        "df1.shape"
      ],
      "metadata": {
        "colab": {
          "base_uri": "https://localhost:8080/"
        },
        "id": "LOxFiqt_TqNU",
        "outputId": "9b48608e-ce4a-4620-8f04-25e43569d9ea"
      },
      "execution_count": 83,
      "outputs": [
        {
          "output_type": "execute_result",
          "data": {
            "text/plain": [
              "(88207, 12)"
            ]
          },
          "metadata": {},
          "execution_count": 83
        }
      ]
    },
    {
      "cell_type": "code",
      "source": [
        "#confirm dataset has been split successful\n",
        "df2.shape"
      ],
      "metadata": {
        "colab": {
          "base_uri": "https://localhost:8080/"
        },
        "id": "DP2vW8rTU4a8",
        "outputId": "fe586b27-c664-49d1-f00a-39f8bf8bcd4a"
      },
      "execution_count": 84,
      "outputs": [
        {
          "output_type": "execute_result",
          "data": {
            "text/plain": [
              "(22319, 12)"
            ]
          },
          "metadata": {},
          "execution_count": 84
        }
      ]
    },
    {
      "cell_type": "markdown",
      "metadata": {
        "id": "Sd59UihmWGt7"
      },
      "source": [
        "<a id='eda'></a>\n",
        "## Exploratory Data Analysis\n",
        "\n",
        "\n",
        "\n"
      ]
    },
    {
      "cell_type": "code",
      "execution_count": 85,
      "metadata": {
        "collapsed": true,
        "id": "NFfUD-FvWGt8",
        "colab": {
          "base_uri": "https://localhost:8080/",
          "height": 942
        },
        "outputId": "76f53d9b-0ba2-4553-d968-ceb71079fb6e"
      },
      "outputs": [
        {
          "output_type": "execute_result",
          "data": {
            "text/plain": [
              "array([[<matplotlib.axes._subplots.AxesSubplot object at 0x7f0199a81310>,\n",
              "        <matplotlib.axes._subplots.AxesSubplot object at 0x7f0197b04ad0>,\n",
              "        <matplotlib.axes._subplots.AxesSubplot object at 0x7f0197ab9f10>],\n",
              "       [<matplotlib.axes._subplots.AxesSubplot object at 0x7f0197a7b450>,\n",
              "        <matplotlib.axes._subplots.AxesSubplot object at 0x7f0197a32950>,\n",
              "        <matplotlib.axes._subplots.AxesSubplot object at 0x7f01979ebf50>],\n",
              "       [<matplotlib.axes._subplots.AxesSubplot object at 0x7f01979ae4d0>,\n",
              "        <matplotlib.axes._subplots.AxesSubplot object at 0x7f0197962910>,\n",
              "        <matplotlib.axes._subplots.AxesSubplot object at 0x7f0197962950>],\n",
              "       [<matplotlib.axes._subplots.AxesSubplot object at 0x7f0197919f50>,\n",
              "        <matplotlib.axes._subplots.AxesSubplot object at 0x7f0197913890>,\n",
              "        <matplotlib.axes._subplots.AxesSubplot object at 0x7f0199ac6b50>]],\n",
              "      dtype=object)"
            ]
          },
          "metadata": {},
          "execution_count": 85
        },
        {
          "output_type": "display_data",
          "data": {
            "text/plain": [
              "<Figure size 864x864 with 12 Axes>"
            ],
            "image/png": "[encoded data removed]"
          },
          "metadata": {
            "needs_background": "light"
          }
        }
      ],
      "source": [
        "#check distribution of data using histograms\n",
        "df.hist(figsize=(12,12), alpha=1)"
      ]
    },
    {
      "cell_type": "code",
      "source": [
        "#correlation between the columns\n",
        "df_corr=df.corr()\n",
        "df_corr.style.background_gradient(cmap='rainbow', axis=None)"
      ],
      "metadata": {
        "colab": {
          "base_uri": "https://localhost:8080/",
          "height": 300
        },
        "id": "LaPvxGwI2Ig6",
        "outputId": "18019c6f-5319-4052-a5ad-cdeb0c867945"
      },
      "execution_count": 86,
      "outputs": [
        {
          "output_type": "execute_result",
          "data": {
            "text/plain": [
              "<pandas.io.formats.style.Styler at 0x7f019a447b10>"
            ],
            "text/html": [
              "<style type=\"text/css\">\n",
              "#T_79892_row0_col0, #T_79892_row1_col1, #T_79892_row2_col2, #T_79892_row3_col3, #T_79892_row4_col4, #T_79892_row5_col5, #T_79892_row6_col6, #T_79892_row7_col7 {\n",
              "  background-color: #ff0000;\n",
              "  color: #f1f1f1;\n",
              "}\n",
              "#T_79892_row0_col1, #T_79892_row1_col0 {\n",
              "  background-color: #8000ff;\n",
              "  color: #f1f1f1;\n",
              "}\n",
              "#T_79892_row0_col2, #T_79892_row2_col0 {\n",
              "  background-color: #96fca7;\n",
              "  color: #000000;\n",
              "}\n",
              "#T_79892_row0_col3, #T_79892_row3_col0 {\n",
              "  background-color: #34e4d9;\n",
              "  color: #000000;\n",
              "}\n",
              "#T_79892_row0_col4, #T_79892_row4_col0 {\n",
              "  background-color: #2884f6;\n",
              "  color: #f1f1f1;\n",
              "}\n",
              "#T_79892_row0_col5, #T_79892_row5_col0 {\n",
              "  background-color: #3176f8;\n",
              "  color: #f1f1f1;\n",
              "}\n",
              "#T_79892_row0_col6, #T_79892_row6_col0 {\n",
              "  background-color: #504afc;\n",
              "  color: #f1f1f1;\n",
              "}\n",
              "#T_79892_row0_col7, #T_79892_row7_col0 {\n",
              "  background-color: #7216ff;\n",
              "  color: #f1f1f1;\n",
              "}\n",
              "#T_79892_row1_col2, #T_79892_row2_col1 {\n",
              "  background-color: #5e35fe;\n",
              "  color: #f1f1f1;\n",
              "}\n",
              "#T_79892_row1_col3, #T_79892_row3_col1, #T_79892_row4_col6, #T_79892_row6_col4 {\n",
              "  background-color: #622ffe;\n",
              "  color: #f1f1f1;\n",
              "}\n",
              "#T_79892_row1_col4, #T_79892_row4_col1 {\n",
              "  background-color: #4659fb;\n",
              "  color: #f1f1f1;\n",
              "}\n",
              "#T_79892_row1_col5, #T_79892_row5_col1 {\n",
              "  background-color: #5a3bfd;\n",
              "  color: #f1f1f1;\n",
              "}\n",
              "#T_79892_row1_col6, #T_79892_row4_col7, #T_79892_row6_col1, #T_79892_row7_col4 {\n",
              "  background-color: #5641fd;\n",
              "  color: #f1f1f1;\n",
              "}\n",
              "#T_79892_row1_col7, #T_79892_row7_col1 {\n",
              "  background-color: #4856fb;\n",
              "  color: #f1f1f1;\n",
              "}\n",
              "#T_79892_row2_col3, #T_79892_row3_col2 {\n",
              "  background-color: #76ffb9;\n",
              "  color: #000000;\n",
              "}\n",
              "#T_79892_row2_col4, #T_79892_row4_col2 {\n",
              "  background-color: #2c7ef7;\n",
              "  color: #f1f1f1;\n",
              "}\n",
              "#T_79892_row2_col5, #T_79892_row5_col2 {\n",
              "  background-color: #3079f7;\n",
              "  color: #f1f1f1;\n",
              "}\n",
              "#T_79892_row2_col6, #T_79892_row5_col7, #T_79892_row6_col2, #T_79892_row7_col5 {\n",
              "  background-color: #583efd;\n",
              "  color: #f1f1f1;\n",
              "}\n",
              "#T_79892_row2_col7, #T_79892_row7_col2 {\n",
              "  background-color: #6629fe;\n",
              "  color: #f1f1f1;\n",
              "}\n",
              "#T_79892_row3_col4, #T_79892_row4_col3 {\n",
              "  background-color: #4e4dfc;\n",
              "  color: #f1f1f1;\n",
              "}\n",
              "#T_79892_row3_col5, #T_79892_row5_col3 {\n",
              "  background-color: #396bf9;\n",
              "  color: #f1f1f1;\n",
              "}\n",
              "#T_79892_row3_col6, #T_79892_row3_col7, #T_79892_row6_col3, #T_79892_row7_col3 {\n",
              "  background-color: #5c38fd;\n",
              "  color: #f1f1f1;\n",
              "}\n",
              "#T_79892_row4_col5, #T_79892_row5_col4 {\n",
              "  background-color: #5444fd;\n",
              "  color: #f1f1f1;\n",
              "}\n",
              "#T_79892_row5_col6, #T_79892_row6_col5 {\n",
              "  background-color: #6032fe;\n",
              "  color: #f1f1f1;\n",
              "}\n",
              "#T_79892_row6_col7, #T_79892_row7_col6 {\n",
              "  background-color: #1996f3;\n",
              "  color: #f1f1f1;\n",
              "}\n",
              "</style>\n",
              "<table id=\"T_79892_\" class=\"dataframe\">\n",
              "  <thead>\n",
              "    <tr>\n",
              "      <th class=\"blank level0\" >&nbsp;</th>\n",
              "      <th class=\"col_heading level0 col0\" >Age</th>\n",
              "      <th class=\"col_heading level0 col1\" >Scholarship</th>\n",
              "      <th class=\"col_heading level0 col2\" >Hipertension</th>\n",
              "      <th class=\"col_heading level0 col3\" >Diabetes</th>\n",
              "      <th class=\"col_heading level0 col4\" >Alcoholism</th>\n",
              "      <th class=\"col_heading level0 col5\" >Handcap</th>\n",
              "      <th class=\"col_heading level0 col6\" >SMS_received</th>\n",
              "      <th class=\"col_heading level0 col7\" >No-show</th>\n",
              "    </tr>\n",
              "  </thead>\n",
              "  <tbody>\n",
              "    <tr>\n",
              "      <th id=\"T_79892_level0_row0\" class=\"row_heading level0 row0\" >Age</th>\n",
              "      <td id=\"T_79892_row0_col0\" class=\"data row0 col0\" >1.000000</td>\n",
              "      <td id=\"T_79892_row0_col1\" class=\"data row0 col1\" >-0.092463</td>\n",
              "      <td id=\"T_79892_row0_col2\" class=\"data row0 col2\" >0.504586</td>\n",
              "      <td id=\"T_79892_row0_col3\" class=\"data row0 col3\" >0.292391</td>\n",
              "      <td id=\"T_79892_row0_col4\" class=\"data row0 col4\" >0.095810</td>\n",
              "      <td id=\"T_79892_row0_col5\" class=\"data row0 col5\" >0.078032</td>\n",
              "      <td id=\"T_79892_row0_col6\" class=\"data row0 col6\" >0.012633</td>\n",
              "      <td id=\"T_79892_row0_col7\" class=\"data row0 col7\" >-0.060327</td>\n",
              "    </tr>\n",
              "    <tr>\n",
              "      <th id=\"T_79892_level0_row1\" class=\"row_heading level0 row1\" >Scholarship</th>\n",
              "      <td id=\"T_79892_row1_col0\" class=\"data row1 col0\" >-0.092463</td>\n",
              "      <td id=\"T_79892_row1_col1\" class=\"data row1 col1\" >1.000000</td>\n",
              "      <td id=\"T_79892_row1_col2\" class=\"data row1 col2\" >-0.019730</td>\n",
              "      <td id=\"T_79892_row1_col3\" class=\"data row1 col3\" >-0.024894</td>\n",
              "      <td id=\"T_79892_row1_col4\" class=\"data row1 col4\" >0.035022</td>\n",
              "      <td id=\"T_79892_row1_col5\" class=\"data row1 col5\" >-0.008587</td>\n",
              "      <td id=\"T_79892_row1_col6\" class=\"data row1 col6\" >0.001192</td>\n",
              "      <td id=\"T_79892_row1_col7\" class=\"data row1 col7\" >0.029134</td>\n",
              "    </tr>\n",
              "    <tr>\n",
              "      <th id=\"T_79892_level0_row2\" class=\"row_heading level0 row2\" >Hipertension</th>\n",
              "      <td id=\"T_79892_row2_col0\" class=\"data row2 col0\" >0.504586</td>\n",
              "      <td id=\"T_79892_row2_col1\" class=\"data row2 col1\" >-0.019730</td>\n",
              "      <td id=\"T_79892_row2_col2\" class=\"data row2 col2\" >1.000000</td>\n",
              "      <td id=\"T_79892_row2_col3\" class=\"data row2 col3\" >0.433085</td>\n",
              "      <td id=\"T_79892_row2_col4\" class=\"data row2 col4\" >0.087970</td>\n",
              "      <td id=\"T_79892_row2_col5\" class=\"data row2 col5\" >0.080083</td>\n",
              "      <td id=\"T_79892_row2_col6\" class=\"data row2 col6\" >-0.006270</td>\n",
              "      <td id=\"T_79892_row2_col7\" class=\"data row2 col7\" >-0.035704</td>\n",
              "    </tr>\n",
              "    <tr>\n",
              "      <th id=\"T_79892_level0_row3\" class=\"row_heading level0 row3\" >Diabetes</th>\n",
              "      <td id=\"T_79892_row3_col0\" class=\"data row3 col0\" >0.292391</td>\n",
              "      <td id=\"T_79892_row3_col1\" class=\"data row3 col1\" >-0.024894</td>\n",
              "      <td id=\"T_79892_row3_col2\" class=\"data row3 col2\" >0.433085</td>\n",
              "      <td id=\"T_79892_row3_col3\" class=\"data row3 col3\" >1.000000</td>\n",
              "      <td id=\"T_79892_row3_col4\" class=\"data row3 col4\" >0.018473</td>\n",
              "      <td id=\"T_79892_row3_col5\" class=\"data row3 col5\" >0.057530</td>\n",
              "      <td id=\"T_79892_row3_col6\" class=\"data row3 col6\" >-0.014552</td>\n",
              "      <td id=\"T_79892_row3_col7\" class=\"data row3 col7\" >-0.015181</td>\n",
              "    </tr>\n",
              "    <tr>\n",
              "      <th id=\"T_79892_level0_row4\" class=\"row_heading level0 row4\" >Alcoholism</th>\n",
              "      <td id=\"T_79892_row4_col0\" class=\"data row4 col0\" >0.095810</td>\n",
              "      <td id=\"T_79892_row4_col1\" class=\"data row4 col1\" >0.035022</td>\n",
              "      <td id=\"T_79892_row4_col2\" class=\"data row4 col2\" >0.087970</td>\n",
              "      <td id=\"T_79892_row4_col3\" class=\"data row4 col3\" >0.018473</td>\n",
              "      <td id=\"T_79892_row4_col4\" class=\"data row4 col4\" >1.000000</td>\n",
              "      <td id=\"T_79892_row4_col5\" class=\"data row4 col5\" >0.004647</td>\n",
              "      <td id=\"T_79892_row4_col6\" class=\"data row4 col6\" >-0.026149</td>\n",
              "      <td id=\"T_79892_row4_col7\" class=\"data row4 col7\" >-0.000197</td>\n",
              "    </tr>\n",
              "    <tr>\n",
              "      <th id=\"T_79892_level0_row5\" class=\"row_heading level0 row5\" >Handcap</th>\n",
              "      <td id=\"T_79892_row5_col0\" class=\"data row5 col0\" >0.078032</td>\n",
              "      <td id=\"T_79892_row5_col1\" class=\"data row5 col1\" >-0.008587</td>\n",
              "      <td id=\"T_79892_row5_col2\" class=\"data row5 col2\" >0.080083</td>\n",
              "      <td id=\"T_79892_row5_col3\" class=\"data row5 col3\" >0.057530</td>\n",
              "      <td id=\"T_79892_row5_col4\" class=\"data row5 col4\" >0.004647</td>\n",
              "      <td id=\"T_79892_row5_col5\" class=\"data row5 col5\" >1.000000</td>\n",
              "      <td id=\"T_79892_row5_col6\" class=\"data row5 col6\" >-0.024162</td>\n",
              "      <td id=\"T_79892_row5_col7\" class=\"data row5 col7\" >-0.006077</td>\n",
              "    </tr>\n",
              "    <tr>\n",
              "      <th id=\"T_79892_level0_row6\" class=\"row_heading level0 row6\" >SMS_received</th>\n",
              "      <td id=\"T_79892_row6_col0\" class=\"data row6 col0\" >0.012633</td>\n",
              "      <td id=\"T_79892_row6_col1\" class=\"data row6 col1\" >0.001192</td>\n",
              "      <td id=\"T_79892_row6_col2\" class=\"data row6 col2\" >-0.006270</td>\n",
              "      <td id=\"T_79892_row6_col3\" class=\"data row6 col3\" >-0.014552</td>\n",
              "      <td id=\"T_79892_row6_col4\" class=\"data row6 col4\" >-0.026149</td>\n",
              "      <td id=\"T_79892_row6_col5\" class=\"data row6 col5\" >-0.024162</td>\n",
              "      <td id=\"T_79892_row6_col6\" class=\"data row6 col6\" >1.000000</td>\n",
              "      <td id=\"T_79892_row6_col7\" class=\"data row6 col7\" >0.126428</td>\n",
              "    </tr>\n",
              "    <tr>\n",
              "      <th id=\"T_79892_level0_row7\" class=\"row_heading level0 row7\" >No-show</th>\n",
              "      <td id=\"T_79892_row7_col0\" class=\"data row7 col0\" >-0.060327</td>\n",
              "      <td id=\"T_79892_row7_col1\" class=\"data row7 col1\" >0.029134</td>\n",
              "      <td id=\"T_79892_row7_col2\" class=\"data row7 col2\" >-0.035704</td>\n",
              "      <td id=\"T_79892_row7_col3\" class=\"data row7 col3\" >-0.015181</td>\n",
              "      <td id=\"T_79892_row7_col4\" class=\"data row7 col4\" >-0.000197</td>\n",
              "      <td id=\"T_79892_row7_col5\" class=\"data row7 col5\" >-0.006077</td>\n",
              "      <td id=\"T_79892_row7_col6\" class=\"data row7 col6\" >0.126428</td>\n",
              "      <td id=\"T_79892_row7_col7\" class=\"data row7 col7\" >1.000000</td>\n",
              "    </tr>\n",
              "  </tbody>\n",
              "</table>\n"
            ]
          },
          "metadata": {},
          "execution_count": 86
        }
      ]
    },
    {
      "cell_type": "markdown",
      "source": [
        "From the heatmap we notice that most patients who have hipertension have diabetes and the two are positively correlated to age. We also notice that patients who receive sms are likely to show since No-show and SMS-received are positively correlated."
      ],
      "metadata": {
        "id": "OTmMkpa7bA7Z"
      }
    },
    {
      "cell_type": "code",
      "source": [
        "#patients who attended\n",
        "attended = df[\"No-show\"].value_counts()\n",
        "attended"
      ],
      "metadata": {
        "colab": {
          "base_uri": "https://localhost:8080/"
        },
        "id": "drP8nSPk3ek9",
        "outputId": "4c9c8b35-a20b-45e5-8057-6b6903cb4331"
      },
      "execution_count": 87,
      "outputs": [
        {
          "output_type": "execute_result",
          "data": {
            "text/plain": [
              "0    88207\n",
              "1    22319\n",
              "Name: No-show, dtype: int64"
            ]
          },
          "metadata": {},
          "execution_count": 87
        }
      ]
    },
    {
      "cell_type": "markdown",
      "source": [
        "The patients who attended are 88207 while those who didn't show are 22319."
      ],
      "metadata": {
        "id": "SMfaZzmFbhUp"
      }
    },
    {
      "cell_type": "code",
      "source": [
        "#pie chart to show attendance\n",
        "plt.pie(attended,labels=[\"Showed\", \"didn't_show\"], autopct='%1.1f%%', textprops={'fontsize': 18},explode = (0, 0.07))\n",
        "plt.rcParams['font.size'] = 12\n",
        "plt.title(\"Percentage of patients who attended & didn't attend\",fontsize=15)\n",
        "plt.legend()\n",
        "plt.show()"
      ],
      "metadata": {
        "colab": {
          "base_uri": "https://localhost:8080/",
          "height": 266
        },
        "id": "5aEyfyXC4i8J",
        "outputId": "a588c669-12fe-427a-bd98-b279088b468a"
      },
      "execution_count": 88,
      "outputs": [
        {
          "output_type": "display_data",
          "data": {
            "text/plain": [
              "<Figure size 432x288 with 1 Axes>"
            ],
            "image/png": "[encoded data removed]"
          },
          "metadata": {}
        }
      ]
    },
    {
      "cell_type": "markdown",
      "source": [
        "The pie chart shows that 20.2% of the patients didn't show while 79.8% of the patients showed for the appointment."
      ],
      "metadata": {
        "id": "upQPug4Ub4Kk"
      }
    },
    {
      "cell_type": "markdown",
      "source": [
        "### Research Question 1 Which gender likely to show in plenty for the appointments?"
      ],
      "metadata": {
        "id": "8DofShDKcYDM"
      }
    },
    {
      "cell_type": "code",
      "source": [
        "#number of alcoholic patients who attended\n",
        "df1['Gender'].value_counts()"
      ],
      "metadata": {
        "colab": {
          "base_uri": "https://localhost:8080/"
        },
        "id": "6LUYCIEvcbvk",
        "outputId": "dc3808fa-73a3-4dfb-9145-0fbd215f4b8e"
      },
      "execution_count": 89,
      "outputs": [
        {
          "output_type": "execute_result",
          "data": {
            "text/plain": [
              "F    57245\n",
              "M    30962\n",
              "Name: Gender, dtype: int64"
            ]
          },
          "metadata": {},
          "execution_count": 89
        }
      ]
    },
    {
      "cell_type": "code",
      "source": [
        "#unique values in gender\n",
        "df1['Gender'].nunique()"
      ],
      "metadata": {
        "colab": {
          "base_uri": "https://localhost:8080/"
        },
        "id": "rFuK8TWXZtBK",
        "outputId": "0a38e85b-87a8-451e-a0c8-55b185706cc8"
      },
      "execution_count": 90,
      "outputs": [
        {
          "output_type": "execute_result",
          "data": {
            "text/plain": [
              "2"
            ]
          },
          "metadata": {},
          "execution_count": 90
        }
      ]
    },
    {
      "cell_type": "markdown",
      "source": [
        "Gender has two unique values that is female and male"
      ],
      "metadata": {
        "id": "PDHAVPfpd-cX"
      }
    },
    {
      "cell_type": "code",
      "source": [
        "f,ax=plt.subplots()\n",
        "ax.bar(df1['Gender'].value_counts().index[0],df1['Gender'].value_counts().values[0],label='F',color='purple')\n",
        "ax.bar(df1['Gender'].value_counts().index[1],df1['Gender'].value_counts().values[1],label='M',color='green')\n",
        "plt.ylabel('number of patients ',fontsize=10)\n",
        "plt.title('Women vs Men',fontsize=20,color='green')\n",
        "ax.set_label(['F','M'])\n",
        "plt.show()"
      ],
      "metadata": {
        "colab": {
          "base_uri": "https://localhost:8080/",
          "height": 289
        },
        "id": "Zvl1AJJMc9Ko",
        "outputId": "036df762-eef8-40ac-8491-8d9bee2546ad"
      },
      "execution_count": 91,
      "outputs": [
        {
          "output_type": "display_data",
          "data": {
            "text/plain": [
              "<Figure size 432x288 with 1 Axes>"
            ],
            "image/png": "[encoded data removed]"
          },
          "metadata": {
            "needs_background": "light"
          }
        }
      ]
    },
    {
      "cell_type": "markdown",
      "source": [
        "We can see that more women attended as compared to men"
      ],
      "metadata": {
        "id": "_7K_lj0qeVlw"
      }
    },
    {
      "cell_type": "markdown",
      "metadata": {
        "id": "I3b5C2PCWGt_"
      },
      "source": [
        "### Research Question 2  Which age group will show the most?"
      ]
    },
    {
      "cell_type": "code",
      "source": [
        "plt.figure(figsize=(18,1.8))\n",
        "plt.xticks(rotation=90)\n",
        "sns.boxplot(x=df1.Age,color=\"red\");"
      ],
      "metadata": {
        "colab": {
          "base_uri": "https://localhost:8080/",
          "height": 163
        },
        "id": "6P70KTe2wqQV",
        "outputId": "d40a87b2-146a-4cab-f460-7bd07c5326c4"
      },
      "execution_count": 92,
      "outputs": [
        {
          "output_type": "display_data",
          "data": {
            "text/plain": [
              "<Figure size 1296x129.6 with 1 Axes>"
            ],
            "image/png": "[encoded data removed]"
          },
          "metadata": {
            "needs_background": "light"
          }
        }
      ]
    },
    {
      "cell_type": "markdown",
      "source": [
        "Maximum age is 115, Minimum Age is 0 First quartile Age is 18 ,Median Age is 38 Third quartile Age is 56"
      ],
      "metadata": {
        "id": "6tD3O7Vagai2"
      }
    },
    {
      "cell_type": "code",
      "source": [
        "#checking for distribution for all patients\n",
        "df[\"Age\"].hist(color=[\"green\"])"
      ],
      "metadata": {
        "colab": {
          "base_uri": "https://localhost:8080/",
          "height": 285
        },
        "id": "B__Yz-iHgdjF",
        "outputId": "298d3c2e-7a7a-4291-d80d-6c1b433b6a8e"
      },
      "execution_count": 93,
      "outputs": [
        {
          "output_type": "execute_result",
          "data": {
            "text/plain": [
              "<matplotlib.axes._subplots.AxesSubplot at 0x7f019a02e9d0>"
            ]
          },
          "metadata": {},
          "execution_count": 93
        },
        {
          "output_type": "display_data",
          "data": {
            "text/plain": [
              "<Figure size 432x288 with 1 Axes>"
            ],
            "image/png": "[encoded data removed]"
          },
          "metadata": {
            "needs_background": "light"
          }
        }
      ]
    },
    {
      "cell_type": "code",
      "source": [
        "#checking for distribution for all patients\n",
        "df1[\"Age\"].hist(color=[\"blue\"])"
      ],
      "metadata": {
        "colab": {
          "base_uri": "https://localhost:8080/",
          "height": 285
        },
        "id": "7B8yAfvOgoCh",
        "outputId": "a6b804d2-4ca7-4a1d-c378-8aee68211b61"
      },
      "execution_count": 94,
      "outputs": [
        {
          "output_type": "execute_result",
          "data": {
            "text/plain": [
              "<matplotlib.axes._subplots.AxesSubplot at 0x7f019a251990>"
            ]
          },
          "metadata": {},
          "execution_count": 94
        },
        {
          "output_type": "display_data",
          "data": {
            "text/plain": [
              "<Figure size 432x288 with 1 Axes>"
            ],
            "image/png": "[encoded data removed]"
          },
          "metadata": {
            "needs_background": "light"
          }
        }
      ]
    },
    {
      "cell_type": "markdown",
      "source": [
        "We notice that most patients that attended are from 0 to 2 years and from 50 to 115 attended. But some patients fro 15 years to 45 did not attend"
      ],
      "metadata": {
        "id": "sT68vYnlg4ih"
      }
    },
    {
      "cell_type": "code",
      "source": [
        "#patients who attended count\n",
        "plt.figure(figsize=(20,4))\n",
        "sns.countplot(x=df1.Age, color='red')\n",
        "plt.title(\"patients who attended with ages\", color='red');"
      ],
      "metadata": {
        "colab": {
          "base_uri": "https://localhost:8080/",
          "height": 243
        },
        "id": "tj9u3CCnzOK4",
        "outputId": "cfa062c8-56f4-404c-efd2-8330b1faa62a"
      },
      "execution_count": 95,
      "outputs": [
        {
          "output_type": "display_data",
          "data": {
            "text/plain": [
              "<Figure size 1440x288 with 1 Axes>"
            ],
            "image/png": "[encoded data removed]"
          },
          "metadata": {
            "needs_background": "light"
          }
        }
      ]
    },
    {
      "cell_type": "markdown",
      "source": [
        "The plot shows that patients who attended between 0 to 2 years are many compared to other ages."
      ],
      "metadata": {
        "id": "83S1WZOfhkMc"
      }
    },
    {
      "cell_type": "markdown",
      "source": [
        "### Research Question 3 - Which disease has most patients showing for the appointment?"
      ],
      "metadata": {
        "id": "ApDbQ5JLhbs_"
      }
    },
    {
      "cell_type": "markdown",
      "source": [
        "###Hipertension column"
      ],
      "metadata": {
        "id": "7walOooki2mi"
      }
    },
    {
      "cell_type": "code",
      "source": [
        "#number of hipertension patients who attended\n",
        "df1['Hipertension'].value_counts()"
      ],
      "metadata": {
        "colab": {
          "base_uri": "https://localhost:8080/"
        },
        "id": "kcKDeVUiiGp2",
        "outputId": "47c0bd5a-7585-4002-8467-0a1fb2be76af"
      },
      "execution_count": 96,
      "outputs": [
        {
          "output_type": "execute_result",
          "data": {
            "text/plain": [
              "0    70178\n",
              "1    18029\n",
              "Name: Hipertension, dtype: int64"
            ]
          },
          "metadata": {},
          "execution_count": 96
        }
      ]
    },
    {
      "cell_type": "code",
      "source": [
        "f,ax=plt.subplots()\n",
        "ax.bar(df1['Hipertension'].value_counts().index[0],df1['Hipertension'].value_counts().values[0],label='not have Hipertension', color='purple')\n",
        "ax.bar(df1['Hipertension'].value_counts().index[1],df1['Hipertension'].value_counts().values[1],label='have Hipertension', color='green')\n",
        "plt.title('Hipertension patients who attended  ',fontsize=20, color='green')\n",
        "plt.legend()\n",
        "plt.xlabel('Hipertension')\n",
        "plt.ylabel('number of the patients')\n",
        "plt.show()"
      ],
      "metadata": {
        "colab": {
          "base_uri": "https://localhost:8080/",
          "height": 306
        },
        "id": "51ETfCKTjLRL",
        "outputId": "4cd4ba13-d635-490b-8fc6-8b4142b0ab31"
      },
      "execution_count": 97,
      "outputs": [
        {
          "output_type": "display_data",
          "data": {
            "text/plain": [
              "<Figure size 432x288 with 1 Axes>"
            ],
            "image/png": "[encoded data removed]"
          },
          "metadata": {
            "needs_background": "light"
          }
        }
      ]
    },
    {
      "cell_type": "markdown",
      "source": [
        "###Alcoholism column"
      ],
      "metadata": {
        "id": "orYoB5QYjTUn"
      }
    },
    {
      "cell_type": "code",
      "source": [
        "#number of alcoholic patients who attended\n",
        "df1['Alcoholism'].value_counts()"
      ],
      "metadata": {
        "colab": {
          "base_uri": "https://localhost:8080/"
        },
        "id": "BIMBS7lGjUE4",
        "outputId": "dc7c7047-7db1-4b6e-d5fe-934b3b635749"
      },
      "execution_count": 98,
      "outputs": [
        {
          "output_type": "execute_result",
          "data": {
            "text/plain": [
              "0    85524\n",
              "1     2683\n",
              "Name: Alcoholism, dtype: int64"
            ]
          },
          "metadata": {},
          "execution_count": 98
        }
      ]
    },
    {
      "cell_type": "code",
      "source": [
        "f,ax=plt.subplots()\n",
        "ax.bar(df1['Alcoholism'].value_counts().index[0],df1['Alcoholism'].value_counts().values[0],label='not have Alcoholism', color='purple')\n",
        "ax.bar(df1['Alcoholism'].value_counts().index[1],df1['Alcoholism'].value_counts().values[1],label='have Alcoholism', color='green')\n",
        "plt.title('Alcoholism patients who attended ',fontsize=20, color='green')\n",
        "plt.legend()\n",
        "plt.xlabel('Alcoholism')\n",
        "plt.ylabel('number of the patients ')\n",
        "plt.show();"
      ],
      "metadata": {
        "colab": {
          "base_uri": "https://localhost:8080/",
          "height": 306
        },
        "id": "8CFebnwijfpp",
        "outputId": "80245f6a-39d8-4906-a661-effb18f3325a"
      },
      "execution_count": 99,
      "outputs": [
        {
          "output_type": "display_data",
          "data": {
            "text/plain": [
              "<Figure size 432x288 with 1 Axes>"
            ],
            "image/png": "[encoded data removed]"
          },
          "metadata": {
            "needs_background": "light"
          }
        }
      ]
    },
    {
      "cell_type": "markdown",
      "source": [
        "###Handicap Patients"
      ],
      "metadata": {
        "id": "zhr8FFt4j1wA"
      }
    },
    {
      "cell_type": "code",
      "source": [
        "#number of handcap patients who attended\n",
        "df1['Handcap'].value_counts()"
      ],
      "metadata": {
        "colab": {
          "base_uri": "https://localhost:8080/"
        },
        "id": "gE7Z0cxnj2jy",
        "outputId": "f4ae3f1e-299f-44aa-bcd4-ab5435fa40f6"
      },
      "execution_count": 100,
      "outputs": [
        {
          "output_type": "execute_result",
          "data": {
            "text/plain": [
              "0    86373\n",
              "1     1676\n",
              "2      146\n",
              "3       10\n",
              "4        2\n",
              "Name: Handcap, dtype: int64"
            ]
          },
          "metadata": {},
          "execution_count": 100
        }
      ]
    },
    {
      "cell_type": "code",
      "source": [
        "f,ax=plt.subplots()\n",
        "ax.bar(df1['Handcap'].value_counts().index[0],df1['Handcap'].value_counts().values[0],label='not handcap', color='purple')\n",
        "ax.bar(df1['Handcap'].value_counts().index[1],df1['Handcap'].value_counts().values[1],label='handcap', color='green')\n",
        "plt.title('Handcap patients who attended ',fontsize=20, color='green')\n",
        "plt.legend()\n",
        "plt.xlabel('Handcap')\n",
        "plt.ylabel('number of the patients ')\n",
        "plt.show();"
      ],
      "metadata": {
        "colab": {
          "base_uri": "https://localhost:8080/",
          "height": 306
        },
        "id": "vpaMkrWBj3iE",
        "outputId": "ec6af824-9387-4f33-ddef-69f0e59e9d48"
      },
      "execution_count": 101,
      "outputs": [
        {
          "output_type": "display_data",
          "data": {
            "text/plain": [
              "<Figure size 432x288 with 1 Axes>"
            ],
            "image/png": "[encoded data removed]"
          },
          "metadata": {
            "needs_background": "light"
          }
        }
      ]
    },
    {
      "cell_type": "markdown",
      "source": [
        "After analysing at least three diseases we notice that most patients from diffrent diseases turn up for attendance"
      ],
      "metadata": {
        "id": "kE4bLjAzkpD3"
      }
    },
    {
      "cell_type": "markdown",
      "source": [
        "### Research Question 4 - What improvements should be made?"
      ],
      "metadata": {
        "id": "wiAzK7CWlL_S"
      }
    },
    {
      "cell_type": "code",
      "source": [
        "#patients who attended count\n",
        "plt.figure(figsize=(25,6.5))\n",
        "sns.countplot(x=df1.Neighbourhood, color='blue')\n",
        "plt.title(\"patients who attended from neighbourhoods\", color='red');"
      ],
      "metadata": {
        "colab": {
          "base_uri": "https://localhost:8080/",
          "height": 280
        },
        "id": "t-PW2lahlcxf",
        "outputId": "572aad4d-f5be-4e44-e0a4-4c92fa6b470e"
      },
      "execution_count": 102,
      "outputs": [
        {
          "output_type": "display_data",
          "data": {
            "text/plain": [
              "<Figure size 1800x468 with 1 Axes>"
            ],
            "image/png": "[encoded data removed]"
          },
          "metadata": {
            "needs_background": "light"
          }
        }
      ]
    },
    {
      "cell_type": "markdown",
      "source": [
        "They should check the neighbourhood before scheduling appointments for the patients"
      ],
      "metadata": {
        "id": "nckzhKrWp7hC"
      }
    },
    {
      "cell_type": "code",
      "source": [
        "#number of SMS-received patients who attended\n",
        "df1['SMS_received'].value_counts()\n"
      ],
      "metadata": {
        "colab": {
          "base_uri": "https://localhost:8080/"
        },
        "id": "IMXUSaDWnj7E",
        "outputId": "c092ae00-2747-4ffc-ed74-a52f62c80d15"
      },
      "execution_count": 103,
      "outputs": [
        {
          "output_type": "execute_result",
          "data": {
            "text/plain": [
              "0    62509\n",
              "1    25698\n",
              "Name: SMS_received, dtype: int64"
            ]
          },
          "metadata": {},
          "execution_count": 103
        }
      ]
    },
    {
      "cell_type": "code",
      "source": [
        "f,ax=plt.subplots()\n",
        "ax.bar(df2['SMS_received'].value_counts().index[0],df2['SMS_received'].value_counts().values[0],label='SMS not received', color='purple')\n",
        "ax.bar(df2['SMS_received'].value_counts().index[1],df2['SMS_received'].value_counts().values[1],label='SMS received', color='green')\n",
        "plt.title('Patients who did not receive SMS ',fontsize=20, color='green')\n",
        "plt.legend()\n",
        "plt.xlabel('SMS_received')\n",
        "plt.ylabel('number of the patients ')\n",
        "plt.show();"
      ],
      "metadata": {
        "colab": {
          "base_uri": "https://localhost:8080/",
          "height": 306
        },
        "id": "U1HZ3VpmrnsY",
        "outputId": "bc16ead9-0bbf-478a-fbd8-19247f69bba9"
      },
      "execution_count": 104,
      "outputs": [
        {
          "output_type": "display_data",
          "data": {
            "text/plain": [
              "<Figure size 432x288 with 1 Axes>"
            ],
            "image/png": "[encoded data removed]"
          },
          "metadata": {
            "needs_background": "light"
          }
        }
      ]
    },
    {
      "cell_type": "markdown",
      "source": [
        "There is no need of sending patients SMS since patients who did not receive SMS attended as well"
      ],
      "metadata": {
        "id": "-LgAXJDjp00v"
      }
    },
    {
      "cell_type": "markdown",
      "metadata": {
        "id": "Y6-kXTt8WGuC"
      },
      "source": [
        "<a id='conclusions'></a>\n",
        "## Conclusions\n",
        "Attendance is 79.8% from all patients already attended\n",
        "\n",
        "20.2% didn't show\n",
        "\n",
        "Female patients attended the most\n",
        "\n",
        "Gender has no direct correlation with No-show column\n",
        "\n",
        "Alcoholism has no direct correlation with No-show column\n",
        "\n",
        "Hypertensive has no direct correlation with No-show column\n",
        "\n",
        "Handcap has no direct correlation with No-show column\n",
        "\n",
        "Diabetes has no direct correlation with No-show column\n",
        "\n",
        "Scholarship has no direct correlation with No-show column\n",
        "\n",
        "Receiving SMS has no correlation with No-show column since attendance rate for patients who have not received sms is high\n",
        "\n",
        "Age group of 0 to 2 attend the appointments the most as compared to tenagers\n",
        "\n",
        "\n",
        "\n",
        "## Limitations \n",
        "\n",
        "We could not use the scholarship column to make conclusions because most people in the dataset are not on scholarship. The same applies to the diseases columns and gender where most people are female.\n",
        "\n",
        "Most people are not above 70 years so it is hard to tell if they had high attendance or low."
      ]
    }
  ],
  "metadata": {
    "kernelspec": {
      "display_name": "Python 3",
      "language": "python",
      "name": "python3"
    },
    "language_info": {
      "codemirror_mode": {
        "name": "ipython",
        "version": 3
      },
      "file_extension": ".py",
      "mimetype": "text/x-python",
      "name": "python",
      "nbconvert_exporter": "python",
      "pygments_lexer": "ipython3",
      "version": "3.6.3"
    },
    "colab": {
      "name": "Investigate_a_Dataset_NoshowData.ipynb",
      "provenance": [],
      "collapsed_sections": []
    }
  },
  "nbformat": 4,
  "nbformat_minor": 0
}